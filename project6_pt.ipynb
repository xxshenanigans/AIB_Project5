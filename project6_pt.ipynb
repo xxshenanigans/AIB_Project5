{
  "nbformat": 4,
  "nbformat_minor": 0,
  "metadata": {
    "colab": {
      "name": "project6_pt.ipynb",
      "provenance": [],
      "collapsed_sections": [],
      "include_colab_link": true
    },
    "kernelspec": {
      "name": "python3",
      "display_name": "Python 3"
    },
    "language_info": {
      "name": "python"
    }
  },
  "cells": [
    {
      "cell_type": "markdown",
      "metadata": {
        "id": "view-in-github",
        "colab_type": "text"
      },
      "source": [
        "<a href=\"https://colab.research.google.com/github/xxshenanigans/AIB_Project5/blob/main/project6_pt.ipynb\" target=\"_parent\"><img src=\"https://colab.research.google.com/assets/colab-badge.svg\" alt=\"Open In Colab\"/></a>"
      ]
    },
    {
      "cell_type": "markdown",
      "metadata": {
        "id": "V6x-UpppeOth"
      },
      "source": [
        "# **DATA SCIENCE / SECTION 6 / PROJECT**\n",
        "\n",
        "---"
      ]
    },
    {
      "cell_type": "markdown",
      "metadata": {
        "id": "KzBrTkZcKXV4"
      },
      "source": [
        "> 수학 시험 문항의 정오답 예측하기 🔍\n",
        "\n",
        "> 취약점 진단 및 맞춤 학습 추천하기 📌"
      ]
    },
    {
      "cell_type": "markdown",
      "metadata": {
        "id": "5KWdeKyvKYcN"
      },
      "source": [
        "## 📚 목차 \n",
        "\n",
        "1. 데이터셋\n",
        "2. 문항 정오답 확률 예측 모델 \n",
        " - 입력 데이터\n",
        " - 모델 구축\n",
        " - 모델 학습  \n",
        "3. 취약 개념 진단 및 맞춤 학습 추천 \n",
        " - 데이터프레임 생성\n",
        " - 취약 개념 출력\n",
        " - 맞춤 학습 추천 \n",
        "---"
      ]
    },
    {
      "cell_type": "markdown",
      "metadata": {
        "id": "v-Zxz9XngneV"
      },
      "source": [
        "#데이터셋"
      ]
    },
    {
      "cell_type": "markdown",
      "metadata": {
        "id": "2ojTtejOdxo-"
      },
      "source": [
        "- 학습자 성취수준 데이터셋 <br/>\n",
        "초1부터 중3까지 각 학년 구간에서 학습자가 해당 학년의 수학 문제를 푼 결과로 생성된 것으로 학습자의 성취 수준을 나타낸 문항별 정오답 데이터셋 <br/>\n",
        "<img src=\"https://github.com/xxshenanigans/AIB_Project6/blob/main/etc/dataset.png?raw=true\"/>\n",
        "\n",
        " - 문항정오답표 <br/> : 대단원-중단원으로 구성된 분류체계를 기준으로 중단원 단위로 시행되는 평가 문항의 학습자별 정오답표(1:정답, 0:오답) <br/>\n",
        "<img src=\"https://github.com/xxshenanigans/AIB_Project6/blob/main/etc/answer.png?raw=true\" width=350/> \n",
        "\n",
        " - 문항IRT / 응시자IRT <br/> : 통계적 분석 모델인 IRT를 활용하여 생성된 문항 및 학습자 정보 <br/>\n",
        "<img src=\"https://github.com/xxshenanigans/AIB_Project6/blob/main/etc/test.png?raw=true\" width=350/> <br/>\n",
        "<img src=\"https://github.com/xxshenanigans/AIB_Project6/blob/main/etc/learner.png?raw=true\" width=350/> <br/>\n",
        "\\* 참고 - IRT(Item Response Theory) <br/>\n",
        "출제자의 의도와 실제 응시자들의 결과 간의 차이를 분석하고 객관적으로 문항의 난이도, 변별도, 추측도를 판단하는 문항 관점의 분석과, 학습자의 이해도와 진점수를 판단하는 학습자 관점의 데이터로 설명할 수 있는 통계적 모형 <br/>\n",
        "\\* 참고 - IRT 3 parameters 모델 수식 <br/> $P_{i}(\\theta) = c_{i} + (1-c_{i}) \\frac{1}{1+e^{-D\\alpha_{i}(\\theta-\\beta_{i})}}$  ($\\beta$ : 난이도, $\\alpha$ : 변별도, $c$ : 추측도, $P$ : 진점수, $\\theta$ : 이해력)"
      ]
    },
    {
      "cell_type": "markdown",
      "metadata": {
        "id": "fvrbQIEFw00i"
      },
      "source": [
        "- 수학 지식체계 데이터셋 <br/> : 해당 평가 문항에 따른 개념(fromConcept)과 이를 이해하기 위해 알고 있어야 하는 선수단위개념(toConcept) 구조로 구성 <br/>\n",
        "<img src=\"https://github.com/xxshenanigans/AIB_Project6/blob/main/etc/tree.png?raw=true\" width=900/>"
      ]
    },
    {
      "cell_type": "markdown",
      "metadata": {
        "id": "YsFHS2GWKBl9"
      },
      "source": [
        "#문항 정오답 확률 예측 모델 "
      ]
    },
    {
      "cell_type": "markdown",
      "metadata": {
        "id": "CKwpYjUzltUv"
      },
      "source": [
        "##입력 데이터"
      ]
    },
    {
      "cell_type": "markdown",
      "metadata": {
        "id": "Y4NhXcfAtdsB"
      },
      "source": [
        "- 문항별 skill index 및 정오답 sequence 생성 <br/> : 학습자 성취수준 데이터셋을 전처리한 결과물로 문항 정오답 예측 모델의 입력값으로 활용 <br/>\n",
        "<img src=\"https://github.com/xxshenanigans/AIB_Project6/blob/main/etc/seq.png?raw=true\" width=900/>"
      ]
    },
    {
      "cell_type": "markdown",
      "metadata": {
        "id": "5EhN4LMeIzVs"
      },
      "source": [
        "##모델 구축"
      ]
    },
    {
      "cell_type": "markdown",
      "metadata": {
        "id": "38tO31w4tq0U"
      },
      "source": [
        "- LSTM을 활용한 문항 정오답 예측 <br/>\n",
        "학습자의 문항 정오답 예측을 위하여 RNN 기반 AI 모델 구축 \n",
        "\n",
        "- 학습 환경 및 하이퍼파라미터 설정 <br/>\n",
        "Python 3.7, Tensorflow 1.14.0 (Tensorflow 2.x에서 일부 코드 에러 발생) <br/>\n",
        "hidden layer, barch size, epoch, learning rate 등 최적의 하이퍼파라미터 탐색\n",
        "\n",
        "- Padding <br/>\n",
        "학습자마다 푼 문항 개수가 다르므로 입력 데이터 sequence의 길이를 동일하게 조정\n",
        "\n",
        "- 손실 함수 및 optimizer 설정 <br/>\n",
        "문항별 난이도에 따라 어려운 문항을 맞춘 경우 지식 수준이 더 많이 향상되고, 쉬운 문제를 틀린 경우 지식 수준이 더 많이 감소하도록 설정 \n",
        "\n",
        "- Early Stopping 적용 <br/>\n",
        "10 epochs 동안 성능이 향상되지 않으면 학습 중지 "
      ]
    },
    {
      "cell_type": "markdown",
      "metadata": {
        "id": "myDL-ugTiqKU"
      },
      "source": [
        "##모델 학습"
      ]
    },
    {
      "cell_type": "markdown",
      "metadata": {
        "id": "6m8t0rCKvTXA"
      },
      "source": [
        "- 손실 함수 계산 및 역전파 \n",
        " - 문항 정오답 예측값(확률값) 도출 \n",
        " - 예측값과 실제 정오답을 비교하여 Binary Cross-Entropy를 기반으로 손실값 계산 \n",
        " - 해당 손실함수를 최소화 하는 방향으로 역전파를 수행하며 파라미터 업데이트\n",
        "\n",
        "- 학습 결과\n",
        " - 평가지표 : ACC / AUC \n",
        " - Baseline ACC : 0.6778711533676541 <br/>\n",
        " <br/>\n",
        "<img src=\"https://github.com/xxshenanigans/AIB_Project6/blob/main/etc/res1-3.png?raw=true\" /> <br/>\n",
        ". <br/>\n",
        ". <br/>\n",
        ". <br/>\n",
        "<br/>\n",
        "<img src=\"https://github.com/xxshenanigans/AIB_Project6/blob/main/etc/res2-2.png?raw=true\" /> <br/>\n",
        "<img src=\"https://github.com/xxshenanigans/AIB_Project6/blob/main/etc/evaluation.png?raw=true\" />\n",
        "\n",
        "- 문항 정오답 예측 <br/>\n",
        "(실제값, 예측값)에 대하여 <br/> (1, 1)이면 TP, <br/> (0, 0)이면 TN, <br/> (0, 1)이면 FP, <br/>  (1, 0)이면 FN <br/>\n",
        "<img src=\"https://github.com/xxshenanigans/AIB_Project6/blob/main/etc/confusion.png?raw=true\" />"
      ]
    },
    {
      "cell_type": "markdown",
      "metadata": {
        "id": "BXNcdnxjJmJL"
      },
      "source": [
        "# 취약 개념 진단 및 맞춤 학습 추천 "
      ]
    },
    {
      "cell_type": "markdown",
      "metadata": {
        "id": "mSzZQnNOkwCh"
      },
      "source": [
        "##데이터프레임 생성 "
      ]
    },
    {
      "cell_type": "code",
      "metadata": {
        "id": "yYzqGLlXnsbg"
      },
      "source": [
        "import pandas as pd\n",
        "\n",
        "def mkdf(url):\n",
        "    data = pd.read_csv(url)\n",
        "    df = pd.DataFrame(data)\n",
        "    return df "
      ],
      "execution_count": null,
      "outputs": []
    },
    {
      "cell_type": "code",
      "metadata": {
        "colab": {
          "base_uri": "https://localhost:8080/",
          "height": 204
        },
        "id": "hSkNbbgfk9h_",
        "outputId": "ae0fcb61-0f9a-4a58-f9e4-e61a219d2ecf"
      },
      "source": [
        "# 정오답표\n",
        "\n",
        "df_ans = mkdf(\"/content/drive/MyDrive/training.csv\")\n",
        "df_ans.head()"
      ],
      "execution_count": null,
      "outputs": [
        {
          "output_type": "execute_result",
          "data": {
            "text/html": [
              "<div>\n",
              "<style scoped>\n",
              "    .dataframe tbody tr th:only-of-type {\n",
              "        vertical-align: middle;\n",
              "    }\n",
              "\n",
              "    .dataframe tbody tr th {\n",
              "        vertical-align: top;\n",
              "    }\n",
              "\n",
              "    .dataframe thead th {\n",
              "        text-align: right;\n",
              "    }\n",
              "</style>\n",
              "<table border=\"1\" class=\"dataframe\">\n",
              "  <thead>\n",
              "    <tr style=\"text-align: right;\">\n",
              "      <th></th>\n",
              "      <th>learnerID</th>\n",
              "      <th>learnerProfile</th>\n",
              "      <th>testID</th>\n",
              "      <th>assessmentItemID</th>\n",
              "      <th>answerCode</th>\n",
              "      <th>Timestamp</th>\n",
              "    </tr>\n",
              "  </thead>\n",
              "  <tbody>\n",
              "    <tr>\n",
              "      <th>0</th>\n",
              "      <td>A090000006</td>\n",
              "      <td>M;S01;9</td>\n",
              "      <td>A090000001</td>\n",
              "      <td>A090001008</td>\n",
              "      <td>1</td>\n",
              "      <td>2020-02-21 08:13:26</td>\n",
              "    </tr>\n",
              "    <tr>\n",
              "      <th>1</th>\n",
              "      <td>A090000051</td>\n",
              "      <td>M;S01;9</td>\n",
              "      <td>A090000001</td>\n",
              "      <td>A090001007</td>\n",
              "      <td>0</td>\n",
              "      <td>2020-03-04 20:33:31</td>\n",
              "    </tr>\n",
              "    <tr>\n",
              "      <th>2</th>\n",
              "      <td>A090000386</td>\n",
              "      <td>F;S01;9</td>\n",
              "      <td>A090000001</td>\n",
              "      <td>A090001002</td>\n",
              "      <td>1</td>\n",
              "      <td>2020-03-08 23:15:39</td>\n",
              "    </tr>\n",
              "    <tr>\n",
              "      <th>3</th>\n",
              "      <td>A090000067</td>\n",
              "      <td>M;S01;9</td>\n",
              "      <td>A090000001</td>\n",
              "      <td>A090001008</td>\n",
              "      <td>0</td>\n",
              "      <td>2020-02-27 03:12:00</td>\n",
              "    </tr>\n",
              "    <tr>\n",
              "      <th>4</th>\n",
              "      <td>A090000139</td>\n",
              "      <td>M;S01;9</td>\n",
              "      <td>A090000001</td>\n",
              "      <td>A090001003</td>\n",
              "      <td>0</td>\n",
              "      <td>2020-04-09 05:50:15</td>\n",
              "    </tr>\n",
              "  </tbody>\n",
              "</table>\n",
              "</div>"
            ],
            "text/plain": [
              "    learnerID learnerProfile  ... answerCode            Timestamp\n",
              "0  A090000006        M;S01;9  ...          1  2020-02-21 08:13:26\n",
              "1  A090000051        M;S01;9  ...          0  2020-03-04 20:33:31\n",
              "2  A090000386        F;S01;9  ...          1  2020-03-08 23:15:39\n",
              "3  A090000067        M;S01;9  ...          0  2020-02-27 03:12:00\n",
              "4  A090000139        M;S01;9  ...          0  2020-04-09 05:50:15\n",
              "\n",
              "[5 rows x 6 columns]"
            ]
          },
          "metadata": {},
          "execution_count": 11
        }
      ]
    },
    {
      "cell_type": "code",
      "metadata": {
        "colab": {
          "base_uri": "https://localhost:8080/",
          "height": 204
        },
        "id": "VysRPHnMm7Bf",
        "outputId": "da5e4fce-4ec0-45d9-ed59-880da5278081"
      },
      "source": [
        "# 문항 정보\n",
        "\n",
        "df_test = mkdf(\"/content/drive/MyDrive/test.csv\")\n",
        "df_test.head()"
      ],
      "execution_count": null,
      "outputs": [
        {
          "output_type": "execute_result",
          "data": {
            "text/html": [
              "<div>\n",
              "<style scoped>\n",
              "    .dataframe tbody tr th:only-of-type {\n",
              "        vertical-align: middle;\n",
              "    }\n",
              "\n",
              "    .dataframe tbody tr th {\n",
              "        vertical-align: top;\n",
              "    }\n",
              "\n",
              "    .dataframe thead th {\n",
              "        text-align: right;\n",
              "    }\n",
              "</style>\n",
              "<table border=\"1\" class=\"dataframe\">\n",
              "  <thead>\n",
              "    <tr style=\"text-align: right;\">\n",
              "      <th></th>\n",
              "      <th>testID</th>\n",
              "      <th>assessmentItemID</th>\n",
              "      <th>difficultyLevel</th>\n",
              "      <th>discriminationLevel</th>\n",
              "      <th>guessLevel</th>\n",
              "      <th>knowledgeTag</th>\n",
              "      <th>Timestamp</th>\n",
              "    </tr>\n",
              "  </thead>\n",
              "  <tbody>\n",
              "    <tr>\n",
              "      <th>0</th>\n",
              "      <td>A090000001</td>\n",
              "      <td>A090001003</td>\n",
              "      <td>-0.071170</td>\n",
              "      <td>15.701788</td>\n",
              "      <td>0.237505</td>\n",
              "      <td>10174</td>\n",
              "      <td>2021-01-08 06:08:25.336946</td>\n",
              "    </tr>\n",
              "    <tr>\n",
              "      <th>1</th>\n",
              "      <td>A090000001</td>\n",
              "      <td>A090001001</td>\n",
              "      <td>0.602270</td>\n",
              "      <td>2.246116</td>\n",
              "      <td>0.153660</td>\n",
              "      <td>4697</td>\n",
              "      <td>2021-01-08 06:08:25.336946</td>\n",
              "    </tr>\n",
              "    <tr>\n",
              "      <th>2</th>\n",
              "      <td>A090000001</td>\n",
              "      <td>A090001008</td>\n",
              "      <td>0.995503</td>\n",
              "      <td>0.697742</td>\n",
              "      <td>0.000019</td>\n",
              "      <td>4697</td>\n",
              "      <td>2021-01-08 06:08:25.336946</td>\n",
              "    </tr>\n",
              "    <tr>\n",
              "      <th>3</th>\n",
              "      <td>A090000001</td>\n",
              "      <td>A090001006</td>\n",
              "      <td>-0.135389</td>\n",
              "      <td>4.823081</td>\n",
              "      <td>0.151693</td>\n",
              "      <td>78</td>\n",
              "      <td>2021-01-08 06:08:25.336946</td>\n",
              "    </tr>\n",
              "    <tr>\n",
              "      <th>4</th>\n",
              "      <td>A090000001</td>\n",
              "      <td>A090001002</td>\n",
              "      <td>0.123169</td>\n",
              "      <td>3.074208</td>\n",
              "      <td>0.130368</td>\n",
              "      <td>4697</td>\n",
              "      <td>2021-01-08 06:08:25.336946</td>\n",
              "    </tr>\n",
              "  </tbody>\n",
              "</table>\n",
              "</div>"
            ],
            "text/plain": [
              "       testID assessmentItemID  ...  knowledgeTag                   Timestamp\n",
              "0  A090000001       A090001003  ...         10174  2021-01-08 06:08:25.336946\n",
              "1  A090000001       A090001001  ...          4697  2021-01-08 06:08:25.336946\n",
              "2  A090000001       A090001008  ...          4697  2021-01-08 06:08:25.336946\n",
              "3  A090000001       A090001006  ...            78  2021-01-08 06:08:25.336946\n",
              "4  A090000001       A090001002  ...          4697  2021-01-08 06:08:25.336946\n",
              "\n",
              "[5 rows x 7 columns]"
            ]
          },
          "metadata": {},
          "execution_count": 13
        }
      ]
    },
    {
      "cell_type": "code",
      "metadata": {
        "colab": {
          "base_uri": "https://localhost:8080/",
          "height": 204
        },
        "id": "Cy3Q-nlgnjPM",
        "outputId": "0cfcff0d-1192-43ce-dd59-5a636e130c66"
      },
      "source": [
        "# 학습자 정보\n",
        "\n",
        "df_user = mkdf(\"/content/drive/MyDrive/learner.csv\")\n",
        "df_user.head()"
      ],
      "execution_count": null,
      "outputs": [
        {
          "output_type": "execute_result",
          "data": {
            "text/html": [
              "<div>\n",
              "<style scoped>\n",
              "    .dataframe tbody tr th:only-of-type {\n",
              "        vertical-align: middle;\n",
              "    }\n",
              "\n",
              "    .dataframe tbody tr th {\n",
              "        vertical-align: top;\n",
              "    }\n",
              "\n",
              "    .dataframe thead th {\n",
              "        text-align: right;\n",
              "    }\n",
              "</style>\n",
              "<table border=\"1\" class=\"dataframe\">\n",
              "  <thead>\n",
              "    <tr style=\"text-align: right;\">\n",
              "      <th></th>\n",
              "      <th>learnerID</th>\n",
              "      <th>learnerProfile</th>\n",
              "      <th>testID</th>\n",
              "      <th>theta</th>\n",
              "      <th>realScore</th>\n",
              "      <th>Timestamp</th>\n",
              "    </tr>\n",
              "  </thead>\n",
              "  <tbody>\n",
              "    <tr>\n",
              "      <th>0</th>\n",
              "      <td>A090000570</td>\n",
              "      <td>F;S01;9</td>\n",
              "      <td>A090000001</td>\n",
              "      <td>-0.467792</td>\n",
              "      <td>0.284713</td>\n",
              "      <td>2021-01-08 06:08:25.336946</td>\n",
              "    </tr>\n",
              "    <tr>\n",
              "      <th>1</th>\n",
              "      <td>A090000503</td>\n",
              "      <td>M;S01;9</td>\n",
              "      <td>A090000001</td>\n",
              "      <td>-0.708632</td>\n",
              "      <td>0.232909</td>\n",
              "      <td>2021-01-08 06:08:25.336946</td>\n",
              "    </tr>\n",
              "    <tr>\n",
              "      <th>2</th>\n",
              "      <td>A090000040</td>\n",
              "      <td>F;S01;9</td>\n",
              "      <td>A090000001</td>\n",
              "      <td>-0.482101</td>\n",
              "      <td>0.280921</td>\n",
              "      <td>2021-01-08 06:08:25.336946</td>\n",
              "    </tr>\n",
              "    <tr>\n",
              "      <th>3</th>\n",
              "      <td>A090000454</td>\n",
              "      <td>M;S01;9</td>\n",
              "      <td>A090000001</td>\n",
              "      <td>1.222495</td>\n",
              "      <td>0.896270</td>\n",
              "      <td>2021-01-08 06:08:25.336946</td>\n",
              "    </tr>\n",
              "    <tr>\n",
              "      <th>4</th>\n",
              "      <td>A090000359</td>\n",
              "      <td>M;S01;9</td>\n",
              "      <td>A090000001</td>\n",
              "      <td>1.222495</td>\n",
              "      <td>0.896270</td>\n",
              "      <td>2021-01-08 06:08:25.336946</td>\n",
              "    </tr>\n",
              "  </tbody>\n",
              "</table>\n",
              "</div>"
            ],
            "text/plain": [
              "    learnerID learnerProfile  ... realScore                   Timestamp\n",
              "0  A090000570        F;S01;9  ...  0.284713  2021-01-08 06:08:25.336946\n",
              "1  A090000503        M;S01;9  ...  0.232909  2021-01-08 06:08:25.336946\n",
              "2  A090000040        F;S01;9  ...  0.280921  2021-01-08 06:08:25.336946\n",
              "3  A090000454        M;S01;9  ...  0.896270  2021-01-08 06:08:25.336946\n",
              "4  A090000359        M;S01;9  ...  0.896270  2021-01-08 06:08:25.336946\n",
              "\n",
              "[5 rows x 6 columns]"
            ]
          },
          "metadata": {},
          "execution_count": 20
        }
      ]
    },
    {
      "cell_type": "code",
      "metadata": {
        "colab": {
          "base_uri": "https://localhost:8080/",
          "height": 204
        },
        "id": "-UKeGcSCoUv9",
        "outputId": "760f7f49-89b5-4be2-8874-87d55bb7a725"
      },
      "source": [
        "# 수학 지식체계 \n",
        "\n",
        "data_tree = pd.read_json('/content/drive/MyDrive/수학 지식체계 데이터 세트_210611.json')\n",
        "df_tree = pd.DataFrame(data_tree).T\n",
        "df_tree.head()"
      ],
      "execution_count": null,
      "outputs": [
        {
          "output_type": "execute_result",
          "data": {
            "text/html": [
              "<div>\n",
              "<style scoped>\n",
              "    .dataframe tbody tr th:only-of-type {\n",
              "        vertical-align: middle;\n",
              "    }\n",
              "\n",
              "    .dataframe tbody tr th {\n",
              "        vertical-align: top;\n",
              "    }\n",
              "\n",
              "    .dataframe thead th {\n",
              "        text-align: right;\n",
              "    }\n",
              "</style>\n",
              "<table border=\"1\" class=\"dataframe\">\n",
              "  <thead>\n",
              "    <tr style=\"text-align: right;\">\n",
              "      <th></th>\n",
              "      <th>fromConcept</th>\n",
              "      <th>toConcept</th>\n",
              "    </tr>\n",
              "  </thead>\n",
              "  <tbody>\n",
              "    <tr>\n",
              "      <th>0</th>\n",
              "      <td>{'id': 3249, 'name': '거듭제곱', 'semester': '고등-수...</td>\n",
              "      <td>{'id': 1442, 'name': '거듭제곱', 'semester': '중등-중...</td>\n",
              "    </tr>\n",
              "    <tr>\n",
              "      <th>1</th>\n",
              "      <td>{'id': 3, 'name': '지수가 자연수일 때의 지수법칙', 'semeste...</td>\n",
              "      <td>{'id': 4659, 'name': '지수법칙 (2) - 지수의 곱', 'seme...</td>\n",
              "    </tr>\n",
              "    <tr>\n",
              "      <th>2</th>\n",
              "      <td>{'id': 3, 'name': '지수가 자연수일 때의 지수법칙', 'semeste...</td>\n",
              "      <td>{'id': 4660, 'name': '지수법칙 (3) - 지수의 차', 'seme...</td>\n",
              "    </tr>\n",
              "    <tr>\n",
              "      <th>3</th>\n",
              "      <td>{'id': 3, 'name': '지수가 자연수일 때의 지수법칙', 'semeste...</td>\n",
              "      <td>{'id': 4661, 'name': '지수법칙 (4) - 지수의 분배', 'sem...</td>\n",
              "    </tr>\n",
              "    <tr>\n",
              "      <th>4</th>\n",
              "      <td>{'id': 4, 'name': '거듭제곱근', 'semester': '고등-수1-...</td>\n",
              "      <td>{'id': 3249, 'name': '거듭제곱', 'semester': '고등-수...</td>\n",
              "    </tr>\n",
              "  </tbody>\n",
              "</table>\n",
              "</div>"
            ],
            "text/plain": [
              "                                         fromConcept                                          toConcept\n",
              "0  {'id': 3249, 'name': '거듭제곱', 'semester': '고등-수...  {'id': 1442, 'name': '거듭제곱', 'semester': '중등-중...\n",
              "1  {'id': 3, 'name': '지수가 자연수일 때의 지수법칙', 'semeste...  {'id': 4659, 'name': '지수법칙 (2) - 지수의 곱', 'seme...\n",
              "2  {'id': 3, 'name': '지수가 자연수일 때의 지수법칙', 'semeste...  {'id': 4660, 'name': '지수법칙 (3) - 지수의 차', 'seme...\n",
              "3  {'id': 3, 'name': '지수가 자연수일 때의 지수법칙', 'semeste...  {'id': 4661, 'name': '지수법칙 (4) - 지수의 분배', 'sem...\n",
              "4  {'id': 4, 'name': '거듭제곱근', 'semester': '고등-수1-...  {'id': 3249, 'name': '거듭제곱', 'semester': '고등-수..."
            ]
          },
          "metadata": {},
          "execution_count": 16
        }
      ]
    },
    {
      "cell_type": "markdown",
      "metadata": {
        "id": "SE3EZJ0Yo3V1"
      },
      "source": [
        "##취약 개념 출력"
      ]
    },
    {
      "cell_type": "code",
      "metadata": {
        "id": "kH6si5xpol53"
      },
      "source": [
        "def inputTag():\n",
        "\n",
        "    \"\"\"\n",
        "    입력된 학습자ID의 취약점을 진단하여 해당 단원의 학습태그를 출력하는 함수 \n",
        "    \"\"\"\n",
        "\n",
        "    # 학습자ID 입력\n",
        "    learnerID = input()\n",
        "\n",
        "    # 학습자 데이터셋(df_user)에서 학습자ID 데이터 추출 >> 이해도(theta) 포함\n",
        "    learner = df_user[df_user['learnerID']==learnerID].reset_index().drop(columns=['index', 'Timestamp'])\n",
        "\n",
        "    # 평가ID 추출 \n",
        "    ids = [i for i in learner['testID']]\n",
        "\n",
        "    # 평가 데이터셋(df_test)에서 평가ID 데이터 추출 >> 난이도(difficultyLevel), 변별도(discriminationLevel), 학습태그(knowledgeTag) 포함 \n",
        "    idxs = [i for i in range(len(df_test)) if df_test['testID'][i] in ids]\n",
        "    test = df_test.iloc[idxs].reset_index().drop(columns=['index', 'Timestamp'])\n",
        "\n",
        "    # 정오답표 데이터셋(df_ans)에서 학습자 ID 데이터 추출 >> 정오답(answerCode) 포함 / 정답률 계산 \n",
        "    answer = df_ans[df_ans['learnerID']==learnerID].reset_index().drop(columns=['index', 'Timestamp'])\n",
        "\n",
        "    # answer, test 결합 (평가ID, 문항ID 중복)\n",
        "    ans_test = pd.merge(answer, test)\n",
        "\n",
        "    # 각 평가에 따른 정답율을 구하여 학습자 데이터셋에 추가 \n",
        "    avr = list(answer['answerCode'].groupby(answer['testID']).mean())\n",
        "    learner['avr'] = avr\n",
        "\n",
        "    # 학습자의 이해도(theta)와 정답률(avr)이 모두 낮은 평가에 대하여 오답(0)인 문항 추출  \n",
        "    thetas = list(learner.sort_values(by=['theta'])[:10]['testID'])\n",
        "    avrs = list(learner.sort_values(by=['avr'])[:10]['testID'])\n",
        "\n",
        "    tests = [i for i in avrs if i in thetas]\n",
        "    idxs = [i for i in range(len(ans_test)) if ans_test['testID'][i] in tests]\n",
        "    \n",
        "    tag = ans_test.iloc[idxs]\n",
        "    tag = tag[tag['answerCode']==0]\n",
        "    \n",
        "    # 학습태그 출력 \n",
        "    tag_sub = pd.DataFrame(tag['knowledgeTag'].value_counts())\n",
        "\n",
        "    if tag_sub['knowledgeTag'].iloc[0] == 1:\n",
        "        tags = list(tag_sub.index)\n",
        "    else:\n",
        "        tags = list(tag_sub[tag_sub['knowledgeTag'] > 1].index)\n",
        "\n",
        "    return tags"
      ],
      "execution_count": null,
      "outputs": []
    },
    {
      "cell_type": "code",
      "metadata": {
        "colab": {
          "base_uri": "https://localhost:8080/"
        },
        "id": "kNpvzyvwpFUF",
        "outputId": "f74e7155-c6b4-4c68-e0ee-1c134d563a3f"
      },
      "source": [
        "inputTag()"
      ],
      "execution_count": null,
      "outputs": [
        {
          "name": "stdout",
          "output_type": "stream",
          "text": [
            "A090000025\n"
          ]
        },
        {
          "output_type": "execute_result",
          "data": {
            "text/plain": [
              "[2612, 9924, 4697, 10607, 9929, 78, 10624, 4723, 4699, 2644, 4725]"
            ]
          },
          "metadata": {},
          "execution_count": 23
        }
      ]
    },
    {
      "cell_type": "markdown",
      "metadata": {
        "id": "UHU7l6OcptQd"
      },
      "source": [
        "##맞춤 학습 추천 "
      ]
    },
    {
      "cell_type": "code",
      "metadata": {
        "id": "ZzapZhRHqRXn"
      },
      "source": [
        "def outputTag():\n",
        "\n",
        "    \"\"\"\n",
        "    inputTag()의 학습태그를 입력받아 취약한 순서대로 단원 정보를 출력하는 함수\n",
        "    \"\"\"\n",
        "    \n",
        "    tags = inputTag()\n",
        "    \n",
        "    idx = []\n",
        "    id = []\n",
        "    name = []\n",
        "    semester = []\n",
        "    achievement = []\n",
        "    chapter = []\n",
        "    description = []\n",
        "    for j in tags:\n",
        "        for i in range(len(df_tree)):\n",
        "            if j == df_tree['fromConcept'][i]['id']:\n",
        "                idx.append('취약단원')\n",
        "                idx.append('선수단원')\n",
        "                id.append(df_tree['fromConcept'][i]['id'])\n",
        "                id.append(df_tree['toConcept'][i]['id'])\n",
        "                name.append(df_tree['fromConcept'][i]['name'])\n",
        "                name.append(df_tree['toConcept'][i]['name'])\n",
        "                semester.append(df_tree['fromConcept'][i]['semester'])\n",
        "                semester.append(df_tree['toConcept'][i]['semester'])\n",
        "                achievement.append(df_tree['fromConcept'][i]['achievement']['name'])\n",
        "                achievement.append(df_tree['toConcept'][i]['achievement']['name'])\n",
        "                chapter.append(df_tree['fromConcept'][i]['chapter']['name'])\n",
        "                chapter.append(df_tree['toConcept'][i]['chapter']['name'])\n",
        "                description.append(df_tree['fromConcept'][i]['description'])\n",
        "                description.append(df_tree['toConcept'][i]['description'])\n",
        "\n",
        "    res = pd.DataFrame({'idx':idx,\n",
        "                        'id':id,\n",
        "                        'name':name,\n",
        "                        'semester':semester,\n",
        "                        'achievement':achievement,\n",
        "                        'chapter':chapter,\n",
        "                        'description':description})\n",
        "\n",
        "    return res"
      ],
      "execution_count": null,
      "outputs": []
    },
    {
      "cell_type": "code",
      "metadata": {
        "colab": {
          "base_uri": "https://localhost:8080/",
          "height": 1000
        },
        "id": "AxAu10jFqaxS",
        "outputId": "da57d729-aabc-42cf-e0dc-47531dde69d1"
      },
      "source": [
        "res = outputTag()\n",
        "res"
      ],
      "execution_count": null,
      "outputs": [
        {
          "name": "stdout",
          "output_type": "stream",
          "text": [
            "A090000025\n"
          ]
        },
        {
          "output_type": "execute_result",
          "data": {
            "text/html": [
              "<div>\n",
              "<style scoped>\n",
              "    .dataframe tbody tr th:only-of-type {\n",
              "        vertical-align: middle;\n",
              "    }\n",
              "\n",
              "    .dataframe tbody tr th {\n",
              "        vertical-align: top;\n",
              "    }\n",
              "\n",
              "    .dataframe thead th {\n",
              "        text-align: right;\n",
              "    }\n",
              "</style>\n",
              "<table border=\"1\" class=\"dataframe\">\n",
              "  <thead>\n",
              "    <tr style=\"text-align: right;\">\n",
              "      <th></th>\n",
              "      <th>idx</th>\n",
              "      <th>id</th>\n",
              "      <th>name</th>\n",
              "      <th>semester</th>\n",
              "      <th>achievement</th>\n",
              "      <th>chapter</th>\n",
              "      <th>description</th>\n",
              "    </tr>\n",
              "  </thead>\n",
              "  <tbody>\n",
              "    <tr>\n",
              "      <th>0</th>\n",
              "      <td>취약단원</td>\n",
              "      <td>2612</td>\n",
              "      <td>원에 내접하는 사각형의 성질</td>\n",
              "      <td>중등-중3-2학기</td>\n",
              "      <td>원주각의 성질을 이해한다.</td>\n",
              "      <td>원의 성질 &gt; 원주각 &gt; 원주각과 그 성질</td>\n",
              "      <td>(1) 원에 내접하는 사각형에서 한 쌍의 대각의 크기의 합은 $180^{\\circ}...</td>\n",
              "    </tr>\n",
              "    <tr>\n",
              "      <th>1</th>\n",
              "      <td>선수단원</td>\n",
              "      <td>2610</td>\n",
              "      <td>원주각의 성질</td>\n",
              "      <td>중등-중3-2학기</td>\n",
              "      <td>원주각의 성질을 이해한다.</td>\n",
              "      <td>원의 성질 &gt; 원주각 &gt; 원주각과 그 성질</td>\n",
              "      <td>(1) 원에서 한 호에 대한 원주각의 크기는 모두 같다. \\n→ $\\angle AP...</td>\n",
              "    </tr>\n",
              "    <tr>\n",
              "      <th>2</th>\n",
              "      <td>취약단원</td>\n",
              "      <td>9924</td>\n",
              "      <td>평균</td>\n",
              "      <td>중등-중3-2학기</td>\n",
              "      <td>중앙값, 최빈값, 평균의 의미를 이해하고 이를 구할 수 있다.</td>\n",
              "      <td>통계 &gt; 대푯값과 산포도 &gt; 대푯값</td>\n",
              "      <td>평균 : 전체 변량의 총합을 변량의 개수로 나눈 값\\n→ $(평균)=\\frac{(변...</td>\n",
              "    </tr>\n",
              "    <tr>\n",
              "      <th>3</th>\n",
              "      <td>선수단원</td>\n",
              "      <td>2643</td>\n",
              "      <td>대푯값</td>\n",
              "      <td>중등-중3-2학기</td>\n",
              "      <td>중앙값, 최빈값, 평균의 의미를 이해하고, 이를 구할 수 있다.</td>\n",
              "      <td>통계 &gt; 대푯값과 산포도 &gt; 대푯값</td>\n",
              "      <td>대푯값 : 자료 전체의 중심적인 경향이나 특징을 대표적인 하나의 수로 나타낸 값</td>\n",
              "    </tr>\n",
              "    <tr>\n",
              "      <th>4</th>\n",
              "      <td>취약단원</td>\n",
              "      <td>4697</td>\n",
              "      <td>제곱근의 표현</td>\n",
              "      <td>중등-중3-1학기</td>\n",
              "      <td>제곱근의 뜻을 알고, 그 성질을 이해한다.</td>\n",
              "      <td>제곱근과 실수 &gt; 제곱근과 실수 &gt; 제곱근의 뜻</td>\n",
              "      <td>(1) 제곱근은 기호 $\\sqrt{\\placeholder{}}$를 사용하여 나타내는...</td>\n",
              "    </tr>\n",
              "    <tr>\n",
              "      <th>5</th>\n",
              "      <td>선수단원</td>\n",
              "      <td>4604</td>\n",
              "      <td>유리수</td>\n",
              "      <td>중등-중2-1학기</td>\n",
              "      <td>순환소수의 뜻을 알고, 유리수와 순환소수의 관계를 이해한다.</td>\n",
              "      <td>유리수와 소수 &gt; 유리수와 소수 &gt; 순환소수</td>\n",
              "      <td>a, b 가 정수이고 $be0$ 일때, 분수 $\\frac{a}{b}$ 의 꼴로 나타...</td>\n",
              "    </tr>\n",
              "    <tr>\n",
              "      <th>6</th>\n",
              "      <td>취약단원</td>\n",
              "      <td>10607</td>\n",
              "      <td>이차방정식의 근의 개수</td>\n",
              "      <td>중등-중3-1학기</td>\n",
              "      <td>이차방정식을 활용하여 문제를 해결할 수 있다.</td>\n",
              "      <td>이차방정식 &gt; 이차방정식 &gt; 근의 공식을 이용한 이차방정식의 풀이</td>\n",
              "      <td>이차방정식 $ax^2+bx+c=0$의 근은 $x=\\frac{-b\\pm\\sqrt[]{...</td>\n",
              "    </tr>\n",
              "    <tr>\n",
              "      <th>7</th>\n",
              "      <td>선수단원</td>\n",
              "      <td>1011</td>\n",
              "      <td>이차방정식의 근의 공식; $ax^2+bx+c=0$</td>\n",
              "      <td>중등-중3-1학기</td>\n",
              "      <td>이차방정식을 풀 수 있다.</td>\n",
              "      <td>이차방정식 &gt; 이차방정식 &gt; 근의공식을 이용한 이차방정식의 풀이</td>\n",
              "      <td>다음과 같이 이차방정식의 근을 구하는 공식을 이차방정식의 근의 공식이라 한다. \\n...</td>\n",
              "    </tr>\n",
              "    <tr>\n",
              "      <th>8</th>\n",
              "      <td>취약단원</td>\n",
              "      <td>78</td>\n",
              "      <td>제곱근</td>\n",
              "      <td>중등-중3-1학기</td>\n",
              "      <td>제곱근의 뜻을 알고, 그 성질을 이해한다.</td>\n",
              "      <td>제곱근과 실수 &gt; 제곱근과 실수 &gt; 제곱근의 뜻</td>\n",
              "      <td>어떤 수 $x$를 제곱하여 $a$가 될 때, 즉\\n$x^2=a$\\n일 때, $x$를...</td>\n",
              "    </tr>\n",
              "    <tr>\n",
              "      <th>9</th>\n",
              "      <td>선수단원</td>\n",
              "      <td>4604</td>\n",
              "      <td>유리수</td>\n",
              "      <td>중등-중2-1학기</td>\n",
              "      <td>순환소수의 뜻을 알고, 유리수와 순환소수의 관계를 이해한다.</td>\n",
              "      <td>유리수와 소수 &gt; 유리수와 소수 &gt; 순환소수</td>\n",
              "      <td>a, b 가 정수이고 $be0$ 일때, 분수 $\\frac{a}{b}$ 의 꼴로 나타...</td>\n",
              "    </tr>\n",
              "    <tr>\n",
              "      <th>10</th>\n",
              "      <td>취약단원</td>\n",
              "      <td>78</td>\n",
              "      <td>제곱근</td>\n",
              "      <td>중등-중3-1학기</td>\n",
              "      <td>제곱근의 뜻을 알고, 그 성질을 이해한다.</td>\n",
              "      <td>제곱근과 실수 &gt; 제곱근과 실수 &gt; 제곱근의 뜻</td>\n",
              "      <td>어떤 수 $x$를 제곱하여 $a$가 될 때, 즉\\n$x^2=a$\\n일 때, $x$를...</td>\n",
              "    </tr>\n",
              "    <tr>\n",
              "      <th>11</th>\n",
              "      <td>선수단원</td>\n",
              "      <td>5762</td>\n",
              "      <td>거듭제곱의 부호</td>\n",
              "      <td>중등-중1-1학기</td>\n",
              "      <td>정수와 유리수의 사칙계산의 원리를 이해하고, 그 계산을 할 수 있다.</td>\n",
              "      <td>수와연산 &gt; 정수와유리수 &gt; 정수와 유리수의 곱셈</td>\n",
              "      <td>(1) 양수의 거듭제곱 : 항상 양수이다.\\n(2) 음수의 거듭제곱 : 지수가$\\b...</td>\n",
              "    </tr>\n",
              "    <tr>\n",
              "      <th>12</th>\n",
              "      <td>취약단원</td>\n",
              "      <td>10624</td>\n",
              "      <td>서로 다른 세 점을 알 때, 이차함수의 식을 구하는 방법</td>\n",
              "      <td>중등-중3-1학기</td>\n",
              "      <td>이차함수의 그래프의 성질을 이해한다.</td>\n",
              "      <td>이차함수 &gt; 이차함수와 그래프 &gt; 이차함수 y=ax^2+bx+c의 그래프</td>\n",
              "      <td>그래프 위의 세 점 $(x_1, y_1)$, $(x_2, y_2)$, $(x_3, ...</td>\n",
              "    </tr>\n",
              "    <tr>\n",
              "      <th>13</th>\n",
              "      <td>선수단원</td>\n",
              "      <td>4972</td>\n",
              "      <td>일차함수의 활용 문제의 풀이방법</td>\n",
              "      <td>중등-중2-1학기</td>\n",
              "      <td>일차함수의 그래프의 성질을 이해하고, 이를 활용하여 문제를 해결할 수 있다.</td>\n",
              "      <td>함수 &gt; 일차함수와 그래프 &gt; 일차함수의 그래프의 성질</td>\n",
              "      <td>(1) 문제의 뜻을 파악하고 변수 x, y를 정한다.\\n(2) x와 y사이의 관계식...</td>\n",
              "    </tr>\n",
              "    <tr>\n",
              "      <th>14</th>\n",
              "      <td>취약단원</td>\n",
              "      <td>4723</td>\n",
              "      <td>제곱근의 대소 관계</td>\n",
              "      <td>중등-중3-1학기</td>\n",
              "      <td>제곱근의 뜻을 알고, 그 성질을 이해한다.</td>\n",
              "      <td>제곱근과 실수 &gt; 제곱근과 실수 &gt; 제곱근의 성질</td>\n",
              "      <td>$a&gt;0$, $b&gt;0$일 때, 다음이 성립한다.\\n(1) $a&lt;b$이면 $\\sqrt...</td>\n",
              "    </tr>\n",
              "    <tr>\n",
              "      <th>15</th>\n",
              "      <td>선수단원</td>\n",
              "      <td>4679</td>\n",
              "      <td>부등식의 표현</td>\n",
              "      <td>중등-중2-1학기</td>\n",
              "      <td>부등식과 그 해의 의미를 알고, 부등식의 성질을 이해한다.</td>\n",
              "      <td>일차방부등식과 연립일차방정식 &gt; 일차부등식 &gt; 부등식의 해</td>\n",
              "      <td>(1) a&gt;b (또는 b&lt;a) \\na는 b보다 크다.\\na는 b 초과이다.\\n(2)...</td>\n",
              "    </tr>\n",
              "    <tr>\n",
              "      <th>16</th>\n",
              "      <td>취약단원</td>\n",
              "      <td>4723</td>\n",
              "      <td>제곱근의 대소 관계</td>\n",
              "      <td>중등-중3-1학기</td>\n",
              "      <td>제곱근의 뜻을 알고, 그 성질을 이해한다.</td>\n",
              "      <td>제곱근과 실수 &gt; 제곱근과 실수 &gt; 제곱근의 성질</td>\n",
              "      <td>$a&gt;0$, $b&gt;0$일 때, 다음이 성립한다.\\n(1) $a&lt;b$이면 $\\sqrt...</td>\n",
              "    </tr>\n",
              "    <tr>\n",
              "      <th>17</th>\n",
              "      <td>선수단원</td>\n",
              "      <td>4682</td>\n",
              "      <td>부등식의 성질</td>\n",
              "      <td>중등-중2-1학기</td>\n",
              "      <td>부등식과 그 해의 의미를 알고, 부등식의 성질을 이해한다.</td>\n",
              "      <td>일차방부등식과 연립일차방정식 &gt; 일차부등식 &gt; 부등식의 성질</td>\n",
              "      <td>(1) 부등식의 양변에 같은 수를 더하거나 양변에서 같은 수를 빼어도 부등호의 방향...</td>\n",
              "    </tr>\n",
              "    <tr>\n",
              "      <th>18</th>\n",
              "      <td>취약단원</td>\n",
              "      <td>4699</td>\n",
              "      <td>제곱근의 성질</td>\n",
              "      <td>중등-중3-1학기</td>\n",
              "      <td>제곱근의 뜻을 알고, 그 성질을 이해한다.</td>\n",
              "      <td>제곱근과 실수 &gt; 제곱근과 실수 &gt; 제곱근의 성질</td>\n",
              "      <td>(1) 양수 $a$의 제곱근 $\\sqrt{a}$와 $-\\sqrt{a}$는 제곱하면 ...</td>\n",
              "    </tr>\n",
              "    <tr>\n",
              "      <th>19</th>\n",
              "      <td>선수단원</td>\n",
              "      <td>4697</td>\n",
              "      <td>제곱근의 표현</td>\n",
              "      <td>중등-중3-1학기</td>\n",
              "      <td>제곱근의 뜻을 알고, 그 성질을 이해한다.</td>\n",
              "      <td>제곱근과 실수 &gt; 제곱근과 실수 &gt; 제곱근의 뜻</td>\n",
              "      <td>(1) 제곱근은 기호 $\\sqrt{\\placeholder{}}$를 사용하여 나타내는...</td>\n",
              "    </tr>\n",
              "    <tr>\n",
              "      <th>20</th>\n",
              "      <td>취약단원</td>\n",
              "      <td>2644</td>\n",
              "      <td>중앙값</td>\n",
              "      <td>중등-중3-2학기</td>\n",
              "      <td>중앙값, 최빈값, 평균의 의미를 이해하고, 이를 구할 수 있다.</td>\n",
              "      <td>통계 &gt; 대푯값과 산포도 &gt; 대푯값</td>\n",
              "      <td>자료의 변량을 작은 값부터 크기순으로 나열할 때, 중앙에 위치하는 값을 그 자료의 ...</td>\n",
              "    </tr>\n",
              "    <tr>\n",
              "      <th>21</th>\n",
              "      <td>선수단원</td>\n",
              "      <td>2643</td>\n",
              "      <td>대푯값</td>\n",
              "      <td>중등-중3-2학기</td>\n",
              "      <td>중앙값, 최빈값, 평균의 의미를 이해하고, 이를 구할 수 있다.</td>\n",
              "      <td>통계 &gt; 대푯값과 산포도 &gt; 대푯값</td>\n",
              "      <td>대푯값 : 자료 전체의 중심적인 경향이나 특징을 대표적인 하나의 수로 나타낸 값</td>\n",
              "    </tr>\n",
              "  </tbody>\n",
              "</table>\n",
              "</div>"
            ],
            "text/plain": [
              "     idx  ...                                        description\n",
              "0   취약단원  ...  (1) 원에 내접하는 사각형에서 한 쌍의 대각의 크기의 합은 $180^{\\circ}...\n",
              "1   선수단원  ...  (1) 원에서 한 호에 대한 원주각의 크기는 모두 같다. \\n→ $\\angle AP...\n",
              "2   취약단원  ...  평균 : 전체 변량의 총합을 변량의 개수로 나눈 값\\n→ $(평균)=\\frac{(변...\n",
              "3   선수단원  ...       대푯값 : 자료 전체의 중심적인 경향이나 특징을 대표적인 하나의 수로 나타낸 값\n",
              "4   취약단원  ...  (1) 제곱근은 기호 $\\sqrt{\\placeholder{}}$를 사용하여 나타내는...\n",
              "5   선수단원  ...  a, b 가 정수이고 $be0$ 일때, 분수 $\\frac{a}{b}$ 의 꼴로 나타...\n",
              "6   취약단원  ...  이차방정식 $ax^2+bx+c=0$의 근은 $x=\\frac{-b\\pm\\sqrt[]{...\n",
              "7   선수단원  ...  다음과 같이 이차방정식의 근을 구하는 공식을 이차방정식의 근의 공식이라 한다. \\n...\n",
              "8   취약단원  ...  어떤 수 $x$를 제곱하여 $a$가 될 때, 즉\\n$x^2=a$\\n일 때, $x$를...\n",
              "9   선수단원  ...  a, b 가 정수이고 $be0$ 일때, 분수 $\\frac{a}{b}$ 의 꼴로 나타...\n",
              "10  취약단원  ...  어떤 수 $x$를 제곱하여 $a$가 될 때, 즉\\n$x^2=a$\\n일 때, $x$를...\n",
              "11  선수단원  ...  (1) 양수의 거듭제곱 : 항상 양수이다.\\n(2) 음수의 거듭제곱 : 지수가$\\b...\n",
              "12  취약단원  ...  그래프 위의 세 점 $(x_1, y_1)$, $(x_2, y_2)$, $(x_3, ...\n",
              "13  선수단원  ...  (1) 문제의 뜻을 파악하고 변수 x, y를 정한다.\\n(2) x와 y사이의 관계식...\n",
              "14  취약단원  ...  $a>0$, $b>0$일 때, 다음이 성립한다.\\n(1) $a<b$이면 $\\sqrt...\n",
              "15  선수단원  ...  (1) a>b (또는 b<a) \\na는 b보다 크다.\\na는 b 초과이다.\\n(2)...\n",
              "16  취약단원  ...  $a>0$, $b>0$일 때, 다음이 성립한다.\\n(1) $a<b$이면 $\\sqrt...\n",
              "17  선수단원  ...  (1) 부등식의 양변에 같은 수를 더하거나 양변에서 같은 수를 빼어도 부등호의 방향...\n",
              "18  취약단원  ...  (1) 양수 $a$의 제곱근 $\\sqrt{a}$와 $-\\sqrt{a}$는 제곱하면 ...\n",
              "19  선수단원  ...  (1) 제곱근은 기호 $\\sqrt{\\placeholder{}}$를 사용하여 나타내는...\n",
              "20  취약단원  ...  자료의 변량을 작은 값부터 크기순으로 나열할 때, 중앙에 위치하는 값을 그 자료의 ...\n",
              "21  선수단원  ...       대푯값 : 자료 전체의 중심적인 경향이나 특징을 대표적인 하나의 수로 나타낸 값\n",
              "\n",
              "[22 rows x 7 columns]"
            ]
          },
          "metadata": {},
          "execution_count": 27
        }
      ]
    },
    {
      "cell_type": "code",
      "metadata": {
        "colab": {
          "base_uri": "https://localhost:8080/",
          "height": 1000
        },
        "id": "-7XORWcNqi2M",
        "outputId": "5c76e683-f3b5-46cf-c1be-776416c55f18"
      },
      "source": [
        "# description의 LaTeX 출력 \n",
        "\n",
        "from IPython.display import display, Markdown, Latex\n",
        "\n",
        "for i in res['description']:\n",
        "    i = i.replace('\\\\n', '\\n')\n",
        "    display(Markdown(i))\n",
        "    print('')"
      ],
      "execution_count": null,
      "outputs": [
        {
          "output_type": "display_data",
          "data": {
            "text/markdown": "(1) 원에 내접하는 사각형에서 한 쌍의 대각의 크기의 합은 $180^{\\circ}$이다. \n→ $\\angle A+\\angle C=180^{\\circ}$, $\\angle B+\\angle D=180^{\\circ}$\n\n(2) 원에 내접하는 사각형에서 한 외각의 크기는 그와 이웃한 내각의 대각의 크기와 같다. \n→ $\\angle DCE=\\angle A$",
            "text/plain": [
              "<IPython.core.display.Markdown object>"
            ]
          },
          "metadata": {}
        },
        {
          "output_type": "stream",
          "name": "stdout",
          "text": [
            "\n"
          ]
        },
        {
          "output_type": "display_data",
          "data": {
            "text/markdown": "(1) 원에서 한 호에 대한 원주각의 크기는 모두 같다. \n→ $\\angle AP_1B=\\angle AP_2B=\\angle AP_3B$\n\n(2) 반원에 대한 원주각의 크기는$90^{\\circ}$이다. \n→ $\\overline{AB}$가 원의 지름이면 $\\angle APB=90^{\\circ}$",
            "text/plain": [
              "<IPython.core.display.Markdown object>"
            ]
          },
          "metadata": {}
        },
        {
          "output_type": "stream",
          "name": "stdout",
          "text": [
            "\n"
          ]
        },
        {
          "output_type": "display_data",
          "data": {
            "text/markdown": "평균 : 전체 변량의 총합을 변량의 개수로 나눈 값\n→ $(평균)=\\frac{(변량의 총합)}{(변량의 개수)}$",
            "text/plain": [
              "<IPython.core.display.Markdown object>"
            ]
          },
          "metadata": {}
        },
        {
          "output_type": "stream",
          "name": "stdout",
          "text": [
            "\n"
          ]
        },
        {
          "output_type": "display_data",
          "data": {
            "text/markdown": "대푯값 : 자료 전체의 중심적인 경향이나 특징을 대표적인 하나의 수로 나타낸 값",
            "text/plain": [
              "<IPython.core.display.Markdown object>"
            ]
          },
          "metadata": {}
        },
        {
          "output_type": "stream",
          "name": "stdout",
          "text": [
            "\n"
          ]
        },
        {
          "output_type": "display_data",
          "data": {
            "text/markdown": "(1) 제곱근은 기호 $\\sqrt{\\placeholder{}}$를 사용하여 나타내는데 이것을 근호라 하고, '제곱근' 또는 '루트(root)'라 읽는다. \n\n(2) 양수 a의 제곱근 중에서 양수인 것을 양의 제곱근, 음수인 것을 음의 제곱근이라 하고 다음과 같이 나타낸다.\n양의 제곱근 : $\\sqrt[]{a}$\n음의 제곱근 : $-\\sqrt[]{a}$",
            "text/plain": [
              "<IPython.core.display.Markdown object>"
            ]
          },
          "metadata": {}
        },
        {
          "output_type": "stream",
          "name": "stdout",
          "text": [
            "\n"
          ]
        },
        {
          "output_type": "display_data",
          "data": {
            "text/markdown": "a, b 가 정수이고 $be0$ 일때, 분수 $\\frac{a}{b}$ 의 꼴로 나타낼 수 있는 수",
            "text/plain": [
              "<IPython.core.display.Markdown object>"
            ]
          },
          "metadata": {}
        },
        {
          "output_type": "stream",
          "name": "stdout",
          "text": [
            "\n"
          ]
        },
        {
          "output_type": "display_data",
          "data": {
            "text/markdown": "이차방정식 $ax^2+bx+c=0$의 근은 $x=\\frac{-b\\pm\\sqrt[]{b^2-4ac}}{2a}$ (단, $b^2-4ac\\ge0$)이므로 서로 다른 근의 개수는 $b^2-4ac$의 부호에 의하여 다음과 같이 결정된다. \n(1) $b^2-4ac>0$ \n: 두 근\n(2) $b^2-4ac=0$ \n: 한 근(중근)\n(3) $b^2-4ac<0$\n: 근이 없다.",
            "text/plain": [
              "<IPython.core.display.Markdown object>"
            ]
          },
          "metadata": {}
        },
        {
          "output_type": "stream",
          "name": "stdout",
          "text": [
            "\n"
          ]
        },
        {
          "output_type": "display_data",
          "data": {
            "text/markdown": "다음과 같이 이차방정식의 근을 구하는 공식을 이차방정식의 근의 공식이라 한다. \n: 이차방정식 $ax^2+bx+c=0$의 근은 $x=\\frac{-b\\pm\\sqrt[]{b^2-4ac}}{2a}$ (단, $b^2-4ac\\ge0$)",
            "text/plain": [
              "<IPython.core.display.Markdown object>"
            ]
          },
          "metadata": {}
        },
        {
          "output_type": "stream",
          "name": "stdout",
          "text": [
            "\n"
          ]
        },
        {
          "output_type": "display_data",
          "data": {
            "text/markdown": "어떤 수 $x$를 제곱하여 $a$가 될 때, 즉\n$x^2=a$\n일 때, $x$를 $a$의 제곱근이라 한다.\n(1) 양수의 제곱근은 양수와 음수 $2$개가 있고, 그 절댓값은 서로 같다.\n(2) 음수의 제곱근은 없다.\n(3) $0$의 제곱근은 $0$이다.",
            "text/plain": [
              "<IPython.core.display.Markdown object>"
            ]
          },
          "metadata": {}
        },
        {
          "output_type": "stream",
          "name": "stdout",
          "text": [
            "\n"
          ]
        },
        {
          "output_type": "display_data",
          "data": {
            "text/markdown": "a, b 가 정수이고 $be0$ 일때, 분수 $\\frac{a}{b}$ 의 꼴로 나타낼 수 있는 수",
            "text/plain": [
              "<IPython.core.display.Markdown object>"
            ]
          },
          "metadata": {}
        },
        {
          "output_type": "stream",
          "name": "stdout",
          "text": [
            "\n"
          ]
        },
        {
          "output_type": "display_data",
          "data": {
            "text/markdown": "어떤 수 $x$를 제곱하여 $a$가 될 때, 즉\n$x^2=a$\n일 때, $x$를 $a$의 제곱근이라 한다.\n(1) 양수의 제곱근은 양수와 음수 $2$개가 있고, 그 절댓값은 서로 같다.\n(2) 음수의 제곱근은 없다.\n(3) $0$의 제곱근은 $0$이다.",
            "text/plain": [
              "<IPython.core.display.Markdown object>"
            ]
          },
          "metadata": {}
        },
        {
          "output_type": "stream",
          "name": "stdout",
          "text": [
            "\n"
          ]
        },
        {
          "output_type": "display_data",
          "data": {
            "text/markdown": "(1) 양수의 거듭제곱 : 항상 양수이다.\n(2) 음수의 거듭제곱 : 지수가$\\begin{cases}{짝수이면\\to+} \\\\ {홀수이면\\to-}\\end{cases}$",
            "text/plain": [
              "<IPython.core.display.Markdown object>"
            ]
          },
          "metadata": {}
        },
        {
          "output_type": "stream",
          "name": "stdout",
          "text": [
            "\n"
          ]
        },
        {
          "output_type": "display_data",
          "data": {
            "text/markdown": "그래프 위의 세 점 $(x_1, y_1)$, $(x_2, y_2)$, $(x_3, y_3)$을 알 때,\n(1) 이차함수의 식을 $y=ax^2+bx+c$로 놓는다.\n(2) (1)의 식에 세 점 $(x_1, y_1)$, $(x_2, y_2)$, $(x_3, y_3)$의 좌표를 각각 대입하여 $a$, $b$, $c$의 값을 구한다.",
            "text/plain": [
              "<IPython.core.display.Markdown object>"
            ]
          },
          "metadata": {}
        },
        {
          "output_type": "stream",
          "name": "stdout",
          "text": [
            "\n"
          ]
        },
        {
          "output_type": "display_data",
          "data": {
            "text/markdown": "(1) 문제의 뜻을 파악하고 변수 x, y를 정한다.\n(2) x와 y사이의 관계식을 세운다.\n(3) 일차함수의 식이나 그래프를 이용하여 구하려는 값을 구한다.\n(4) 구한 값이 문제의 뜻에 맞는지 확인한다.",
            "text/plain": [
              "<IPython.core.display.Markdown object>"
            ]
          },
          "metadata": {}
        },
        {
          "output_type": "stream",
          "name": "stdout",
          "text": [
            "\n"
          ]
        },
        {
          "output_type": "display_data",
          "data": {
            "text/markdown": "$a>0$, $b>0$일 때, 다음이 성립한다.\n(1) $a<b$이면 $\\sqrt{a}<\\sqrt{b}$\n(2) $\\sqrt{a}<\\sqrt{b}$이면 $a<b$",
            "text/plain": [
              "<IPython.core.display.Markdown object>"
            ]
          },
          "metadata": {}
        },
        {
          "output_type": "stream",
          "name": "stdout",
          "text": [
            "\n"
          ]
        },
        {
          "output_type": "display_data",
          "data": {
            "text/markdown": "(1) a>b (또는 b<a) \na는 b보다 크다.\na는 b 초과이다.\n(2) a<b (또는 b>a)\na는 b보다 작다.\na는 b 미만이다.\n(3) a$\\geq$b (또는 b$\\leq$a)\na는 b보다 크거나 같다. a는 b 이상이다.\na는 b보다 작지 않다.\n(4) a$\\leq$b (또는 b$\\geq$a)\na는 b보다 작거나 같다. a는 b이하이다.\na는 b보다 크지 않다.",
            "text/plain": [
              "<IPython.core.display.Markdown object>"
            ]
          },
          "metadata": {}
        },
        {
          "output_type": "stream",
          "name": "stdout",
          "text": [
            "\n"
          ]
        },
        {
          "output_type": "display_data",
          "data": {
            "text/markdown": "$a>0$, $b>0$일 때, 다음이 성립한다.\n(1) $a<b$이면 $\\sqrt{a}<\\sqrt{b}$\n(2) $\\sqrt{a}<\\sqrt{b}$이면 $a<b$",
            "text/plain": [
              "<IPython.core.display.Markdown object>"
            ]
          },
          "metadata": {}
        },
        {
          "output_type": "stream",
          "name": "stdout",
          "text": [
            "\n"
          ]
        },
        {
          "output_type": "display_data",
          "data": {
            "text/markdown": "(1) 부등식의 양변에 같은 수를 더하거나 양변에서 같은 수를 빼어도 부등호의 방향은 바뀌지 않는다.\n=> a<b이면 a+c<b+c , a-c<b-c\n(2) 부등식의 양변에 같은 양수를 곱하거나 양변을 같은 양수로 나누어도 부등호의 방향은 바뀌지 않는다. \n=> a<b, c>0이면 ac<bc, $\\frac{a}{c}<\\frac{b}{c}$ (부등호의 방향 그대로)\n(3) 부등식의 양변에 같은 음수를 곱하거나 양변을 같은 음수로 나누면 부등호의 방향이 바뀐다.\n=> a<b, c<0이면 ac>bc, $\\frac{a}{c}>\\frac{b}{c}$ (부등호의 방향 반대로)",
            "text/plain": [
              "<IPython.core.display.Markdown object>"
            ]
          },
          "metadata": {}
        },
        {
          "output_type": "stream",
          "name": "stdout",
          "text": [
            "\n"
          ]
        },
        {
          "output_type": "display_data",
          "data": {
            "text/markdown": "(1) 양수 $a$의 제곱근 $\\sqrt{a}$와 $-\\sqrt{a}$는 제곱하면 $a$가 된다.\n즉, $a>0$일 때, $(\\sqrt{a})^2=a$,\n$(-\\sqrt{a})^2=a$\n(2) 근호 안의 수가 어떤 수의 제곱이면 근호를 사용하지 않고 나타낼 수 있다.\n즉, $a>0$일 때, $\\sqrt{a^2}=a$, $\\sqrt{(-a)^2}=a$",
            "text/plain": [
              "<IPython.core.display.Markdown object>"
            ]
          },
          "metadata": {}
        },
        {
          "output_type": "stream",
          "name": "stdout",
          "text": [
            "\n"
          ]
        },
        {
          "output_type": "display_data",
          "data": {
            "text/markdown": "(1) 제곱근은 기호 $\\sqrt{\\placeholder{}}$를 사용하여 나타내는데 이것을 근호라 하고, '제곱근' 또는 '루트(root)'라 읽는다. \n\n(2) 양수 a의 제곱근 중에서 양수인 것을 양의 제곱근, 음수인 것을 음의 제곱근이라 하고 다음과 같이 나타낸다.\n양의 제곱근 : $\\sqrt[]{a}$\n음의 제곱근 : $-\\sqrt[]{a}$",
            "text/plain": [
              "<IPython.core.display.Markdown object>"
            ]
          },
          "metadata": {}
        },
        {
          "output_type": "stream",
          "name": "stdout",
          "text": [
            "\n"
          ]
        },
        {
          "output_type": "display_data",
          "data": {
            "text/markdown": "자료의 변량을 작은 값부터 크기순으로 나열할 때, 중앙에 위치하는 값을 그 자료의 중앙값이라 한다.\n(1) 변량의 개수가 홀수이면 중앙에 위치하는 값이 중앙값이다.\n(2) 변량의 개수가 짝수이면 중앙에 위치하는 두 값의 평균이 중앙값이다.",
            "text/plain": [
              "<IPython.core.display.Markdown object>"
            ]
          },
          "metadata": {}
        },
        {
          "output_type": "stream",
          "name": "stdout",
          "text": [
            "\n"
          ]
        },
        {
          "output_type": "display_data",
          "data": {
            "text/markdown": "대푯값 : 자료 전체의 중심적인 경향이나 특징을 대표적인 하나의 수로 나타낸 값",
            "text/plain": [
              "<IPython.core.display.Markdown object>"
            ]
          },
          "metadata": {}
        },
        {
          "output_type": "stream",
          "name": "stdout",
          "text": [
            "\n"
          ]
        }
      ]
    }
  ]
}